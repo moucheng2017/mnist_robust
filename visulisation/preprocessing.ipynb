{
 "cells": [
  {
   "cell_type": "code",
   "execution_count": 4,
   "metadata": {},
   "outputs": [],
   "source": [
    "import pandas as pd\n",
    "import numpy as np\n",
    "import random\n",
    "\n",
    "import torch\n",
    "import torch.nn as nn\n",
    "import torch.nn.functional as F\n",
    "import torch.optim as optim\n",
    "from torch.autograd import Variable\n",
    "from torchvision.utils import make_grid\n",
    "from torch.utils.data import TensorDataset, DataLoader\n",
    "\n",
    "from sklearn.model_selection import train_test_split\n",
    "\n",
    "import matplotlib.pyplot as plt\n",
    "\n",
    "import os\n",
    "\n",
    "from scipy.ndimage import gaussian_filter"
   ]
  },
  {
   "cell_type": "code",
   "execution_count": 17,
   "metadata": {},
   "outputs": [],
   "source": [
    "# train clean images\n",
    "train = pd.read_csv('C:/Users/joele/OneDrive/CMIC hackathon/mnist_train.csv')\n",
    "images = train.iloc[:,1:]\n",
    "images = images.values / 255.\n",
    "images = np.reshape(images, (-1, 1, 28, 28))\n",
    "np.save('C:/Users/joele/OneDrive/CMIC hackathon/train/raw.npy', images)"
   ]
  },
  {
   "cell_type": "code",
   "execution_count": 18,
   "metadata": {},
   "outputs": [],
   "source": [
    "# train labels\n",
    "labels = np.zeros_like(images)\n",
    "labels[images >= 0.5] = 1\n",
    "labels[images < 0.5] = 0\n",
    "np.save('C:/Users/joele/OneDrive/CMIC hackathon/train/labels.npy', labels)"
   ]
  },
  {
   "cell_type": "code",
   "execution_count": 20,
   "metadata": {},
   "outputs": [],
   "source": [
    "# train gaussian images\n",
    "noise = np.random.normal(0, 0.2, images.shape)\n",
    "mask_overflow_upper = images + noise >= 1.0\n",
    "mask_overflow_lower = images + noise < 0.0\n",
    "noise[mask_overflow_upper] = 1.0\n",
    "noise[mask_overflow_lower] = 0.0\n",
    "images_gaussian2 = images + noise\n",
    "np.save('C:/Users/joele/OneDrive/CMIC hackathon/train/gaussian2.npy', images_gaussian2)"
   ]
  },
  {
   "cell_type": "code",
   "execution_count": 21,
   "metadata": {},
   "outputs": [],
   "source": [
    "# test clean images\n",
    "test = pd.read_csv('C:/Users/joele/OneDrive/CMIC hackathon/mnist_test.csv')\n",
    "test = test.iloc[:,1:]\n",
    "test = test.values / 255.\n",
    "test = np.reshape(test, (-1, 1, 28, 28))\n",
    "np.save('C:/Users/joele/OneDrive/CMIC hackathon/test/raw.npy', test)"
   ]
  },
  {
   "cell_type": "code",
   "execution_count": 22,
   "metadata": {},
   "outputs": [],
   "source": [
    "# test labels\n",
    "labels = np.zeros_like(test)\n",
    "labels[test >= 0.5] = 1\n",
    "labels[test < 0.5] = 0\n",
    "np.save('C:/Users/joele/OneDrive/CMIC hackathon/test/labels.npy', labels)"
   ]
  },
  {
   "cell_type": "code",
   "execution_count": 23,
   "metadata": {},
   "outputs": [],
   "source": [
    "# test gaussian images\n",
    "noise = np.random.normal(0, 1, test.shape)\n",
    "mask_overflow_upper = test + noise >= 1.0\n",
    "mask_overflow_lower = test + noise < 0.0\n",
    "noise[mask_overflow_upper] = 1.0\n",
    "noise[mask_overflow_lower] = 0.0\n",
    "images_gaussian10 = test + noise\n",
    "np.save('C:/Users/joele/OneDrive/CMIC hackathon/test/gaussian10.npy', images_gaussian10)"
   ]
  },
  {
   "cell_type": "code",
   "execution_count": 26,
   "metadata": {},
   "outputs": [],
   "source": [
    "blurred = gaussian_filter(test, sigma=(0,0,0.5,0.5))"
   ]
  },
  {
   "cell_type": "code",
   "execution_count": 25,
   "metadata": {},
   "outputs": [
    {
     "data": {
      "text/plain": [
       "(10000, 1, 28, 28)"
      ]
     },
     "execution_count": 25,
     "metadata": {},
     "output_type": "execute_result"
    }
   ],
   "source": [
    "test.shape"
   ]
  },
  {
   "cell_type": "code",
   "execution_count": null,
   "metadata": {},
   "outputs": [],
   "source": []
  }
 ],
 "metadata": {
  "kernelspec": {
   "display_name": "Python 3",
   "language": "python",
   "name": "python3"
  },
  "language_info": {
   "codemirror_mode": {
    "name": "ipython",
    "version": 3
   },
   "file_extension": ".py",
   "mimetype": "text/x-python",
   "name": "python",
   "nbconvert_exporter": "python",
   "pygments_lexer": "ipython3",
   "version": "3.8.5"
  }
 },
 "nbformat": 4,
 "nbformat_minor": 5
}
